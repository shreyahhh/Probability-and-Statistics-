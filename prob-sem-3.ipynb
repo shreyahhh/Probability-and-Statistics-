{
  "nbformat": 4,
  "nbformat_minor": 0,
  "metadata": {
    "colab": {
      "provenance": []
    },
    "kernelspec": {
      "name": "python3",
      "display_name": "Python 3"
    },
    "language_info": {
      "name": "python"
    }
  },
  "cells": [
    {
      "cell_type": "code",
      "source": [
        "import random\n",
        "\n",
        "seeds = [2, 4, 6]\n",
        "\n",
        "for seed in seeds:\n",
        "    random.seed(seed)\n",
        "    random_numbers = [random.randint(90, 101 - 1) for _ in range(1500)]\n",
        "    frequency_dict = {num: random_numbers.count(num) for num in range(90, 101)}\n",
        "\n",
        "    print(f\"Seed {seed}:\")\n",
        "    print(frequency_dict)\n",
        "    print()\n"
      ],
      "metadata": {
        "colab": {
          "base_uri": "https://localhost:8080/"
        },
        "id": "Z6mkA8kOn1HG",
        "outputId": "81b55c0a-3f25-4bdc-bb34-666c7b19bcf9"
      },
      "execution_count": null,
      "outputs": [
        {
          "output_type": "stream",
          "name": "stdout",
          "text": [
            "Seed 2:\n",
            "{90: 132, 91: 128, 92: 151, 93: 135, 94: 120, 95: 139, 96: 133, 97: 145, 98: 138, 99: 134, 100: 145}\n",
            "\n",
            "Seed 4:\n",
            "{90: 136, 91: 126, 92: 150, 93: 131, 94: 144, 95: 149, 96: 127, 97: 124, 98: 136, 99: 142, 100: 135}\n",
            "\n",
            "Seed 6:\n",
            "{90: 150, 91: 144, 92: 126, 93: 139, 94: 129, 95: 141, 96: 120, 97: 129, 98: 128, 99: 147, 100: 147}\n",
            "\n"
          ]
        }
      ]
    },
    {
      "cell_type": "code",
      "source": [
        "def compute_probability(data_array, K):\n",
        "    total = len(data_array)\n",
        "    K = data_array.count(K)\n",
        "\n",
        "    if total == 0:\n",
        "        return 0\n",
        "\n",
        "    probability = K / total\n",
        "    return probability\n",
        "\n",
        "\n",
        "data_array = [20, 20, 21, 21, 21, 22, 23, 26, 27, 27]\n",
        "numbers_to_compute = [20, 21, 24, 26, 27]\n",
        "\n",
        "for number in numbers_to_compute:\n",
        "    probability = compute_probability(data_array, number)\n",
        "    print(f\"Probability of {number} in the data array: {probability:.4f}\")\n"
      ],
      "metadata": {
        "colab": {
          "base_uri": "https://localhost:8080/"
        },
        "id": "RxL4hDi6plUG",
        "outputId": "aa97531b-265f-4709-8f40-a3904df6081b"
      },
      "execution_count": null,
      "outputs": [
        {
          "output_type": "stream",
          "name": "stdout",
          "text": [
            "Probability of 20 in the data array: 0.2000\n",
            "Probability of 21 in the data array: 0.3000\n",
            "Probability of 24 in the data array: 0.0000\n",
            "Probability of 26 in the data array: 0.1000\n",
            "Probability of 27 in the data array: 0.2000\n"
          ]
        }
      ]
    },
    {
      "cell_type": "code",
      "source": [
        "import numpy as np\n",
        "print((20,20,21,21,21,22,23,26,27,27))\n",
        "n = input(\"enter a letter from the above list \")\n",
        "A = ['20','20','21','21','21','22','23','26','27','27']\n",
        "length=len(A)\n",
        "def probability(length,A,n):\n",
        "  c = A.count(n)\n",
        "  return (round(c/length,2))\n",
        "print(\"the probability of the entered number is:\")\n",
        "print(probability(length,A,n))"
      ],
      "metadata": {
        "colab": {
          "base_uri": "https://localhost:8080/"
        },
        "id": "k2U0E-ir4Je1",
        "outputId": "b4fb97e0-68c6-4771-835d-2fb97fdf7901"
      },
      "execution_count": null,
      "outputs": [
        {
          "output_type": "stream",
          "name": "stdout",
          "text": [
            "(20, 20, 21, 21, 21, 22, 23, 26, 27, 27)\n",
            "enter a letter from the above list 20\n",
            "the probability of the entered number is:\n",
            "0.2\n"
          ]
        }
      ]
    },
    {
      "cell_type": "code",
      "source": [
        "import numpy as np\n",
        "print(('a', 'a', 'b',' b', 'c', 'x', 'y',' z',' z',' z'))\n",
        "n = input(\"enter a letter from the above list \")\n",
        "A = ['a', 'a', 'b',' b', 'c', 'x', 'y',' z',' z',' z']\n",
        "length=len(A)\n",
        "def probability(length,A,n):\n",
        "  c = A.count(n)\n",
        "  return (round(c/length,2))\n",
        "print(\"the probability of the entered letter is:\")\n",
        "print(probability(length,A,n))"
      ],
      "metadata": {
        "colab": {
          "base_uri": "https://localhost:8080/"
        },
        "id": "OV9ul8RX29t2",
        "outputId": "e4dfd387-745e-4151-f698-31f262bda10b"
      },
      "execution_count": null,
      "outputs": [
        {
          "output_type": "stream",
          "name": "stdout",
          "text": [
            "('a', 'a', 'b', ' b', 'c', 'x', 'y', ' z', ' z', ' z')\n",
            "enter a letter from the above list a\n",
            "the probability of the entered letter is:\n",
            "0.2\n"
          ]
        }
      ]
    },
    {
      "cell_type": "code",
      "source": [
        "import numpy as np\n",
        "list =[\"I\", \"am\", \"writing\", \"a\", \"program\"]\n",
        "seed_value=int(input(\"enter the seed value: \"))\n",
        "np.random.seed(seed_value)\n",
        "sample = [np.random.choice(list) for a in range(1500)]\n",
        "frequency = {}\n",
        "for i in sample:\n",
        "  frequency[i] = sample.count(i)\n",
        "print(frequency)"
      ],
      "metadata": {
        "colab": {
          "base_uri": "https://localhost:8080/"
        },
        "id": "7FYzwnRk3Cq-",
        "outputId": "e30c2b45-905c-448b-a39b-68283093a03a"
      },
      "execution_count": null,
      "outputs": [
        {
          "output_type": "stream",
          "name": "stdout",
          "text": [
            "enter the seed value: 40\n",
            "{'a': 309, 'I': 286, 'writing': 284, 'am': 320, 'program': 301}\n"
          ]
        }
      ]
    },
    {
      "cell_type": "code",
      "source": [
        "import numpy as np\n",
        "\n",
        "list = [\"I\",\"am\",\"Studying\",\"in\",\"BU\"]\n",
        "random= np.random.choice(list,1500)\n",
        "print(random)\n",
        "\n",
        "Sample_space=[]\n",
        "\n",
        "for i in range(len(random)-1):\n",
        "  if(random[i]==\"BU\"):\n",
        "\n",
        "    Sample_space.append(random[i+1])\n",
        "\n",
        "for i in list:\n",
        "  print(\"Probability of \"+i+\" in sample space is \",Sample_space.count(i)/len(Sample_space))\n"
      ],
      "metadata": {
        "colab": {
          "base_uri": "https://localhost:8080/"
        },
        "id": "WDDv1GvzpuR4",
        "outputId": "58379950-2186-485a-e462-56f336143be9"
      },
      "execution_count": null,
      "outputs": [
        {
          "output_type": "stream",
          "name": "stdout",
          "text": [
            "['Studying' 'am' 'Studying' ... 'in' 'BU' 'Studying']\n",
            "Probability of I in sample space is  0.18315018315018314\n",
            "Probability of am in sample space is  0.21611721611721613\n",
            "Probability of Studying in sample space is  0.20146520146520147\n",
            "Probability of in in sample space is  0.21611721611721613\n",
            "Probability of BU in sample space is  0.18315018315018314\n"
          ]
        }
      ]
    },
    {
      "cell_type": "code",
      "source": [
        "#from numpy.core.numeric import count_nonzero\n",
        "import numpy as np\n",
        "outcomes=[\"HHHH\", \"THHH\", \"HTHH \",\"HHTH\",\"HHHT\",\"TTHH\",\"THTH\",\"THHT\", \"HTTH\",\"HTHT\",\"HHTT\",\"TTTH\",\"TTHT\",\"THTT\",\"HTTT\",\"TTTT\"]\n",
        "count0=0\n",
        "count1=0\n",
        "count2=0\n",
        "count3=0\n",
        "count4=0\n",
        "for i in outcomes:\n",
        "  c=i.count(\"H\")\n",
        "  if(c==0):\n",
        "    count0+=1\n",
        "  elif(c==1):\n",
        "    count1+=1\n",
        "  elif(c==2):\n",
        "    count2+=1\n",
        "  elif(c==3):\n",
        "    count3+=1\n",
        "  elif(c==4):\n",
        "    count4+=1\n",
        "\n",
        "print(\"Probability of 0 head= \", count0/len(outcomes))\n",
        "print(\"Probability of 1 head= \", count1/len(outcomes))\n",
        "print(\"Probability of 2 head= \", count2/len(outcomes))\n",
        "print(\"Probability of 3 head= \", count3/len(outcomes))\n",
        "print(\"Probability of 4 head= \", count4/len(outcomes))\n"
      ],
      "metadata": {
        "colab": {
          "base_uri": "https://localhost:8080/"
        },
        "id": "MY8fxWqSsuXh",
        "outputId": "ed3f44e2-dff3-4656-cbfd-ed3ddf1d82e0"
      },
      "execution_count": null,
      "outputs": [
        {
          "output_type": "stream",
          "name": "stdout",
          "text": [
            "Probability of 0 head=  0.0625\n",
            "Probability of 1 head=  0.25\n",
            "Probability of 2 head=  0.375\n",
            "Probability of 3 head=  0.25\n",
            "Probability of 4 head=  0.0625\n"
          ]
        }
      ]
    },
    {
      "cell_type": "code",
      "source": [
        "dict={}\n",
        "\n",
        "for die1 in range(1,7):\n",
        "  for die2 in range(1,7):\n",
        "    for die3 in range(1,7):\n",
        "      sum=die1+die2+die3\n",
        "\n",
        "      if(sum not in dict):\n",
        "        dict[sum]=1\n",
        "      else:\n",
        "        dict[sum]+=1\n",
        "\n",
        "for key in dict:\n",
        "  print(\"Y=\",key,\"  \",dict[key]/216)\n"
      ],
      "metadata": {
        "colab": {
          "base_uri": "https://localhost:8080/"
        },
        "id": "9rJTV6_12G-l",
        "outputId": "d3573438-9a72-4674-8c5d-b3382dda5faa"
      },
      "execution_count": null,
      "outputs": [
        {
          "output_type": "stream",
          "name": "stdout",
          "text": [
            "Y= 3    0.004629629629629629\n",
            "Y= 4    0.013888888888888888\n",
            "Y= 5    0.027777777777777776\n",
            "Y= 6    0.046296296296296294\n",
            "Y= 7    0.06944444444444445\n",
            "Y= 8    0.09722222222222222\n",
            "Y= 9    0.11574074074074074\n",
            "Y= 10    0.125\n",
            "Y= 11    0.125\n",
            "Y= 12    0.11574074074074074\n",
            "Y= 13    0.09722222222222222\n",
            "Y= 14    0.06944444444444445\n",
            "Y= 15    0.046296296296296294\n",
            "Y= 16    0.027777777777777776\n",
            "Y= 17    0.013888888888888888\n",
            "Y= 18    0.004629629629629629\n"
          ]
        }
      ]
    },
    {
      "cell_type": "code",
      "source": [
        "import numpy as np\n",
        "\n",
        "values = np.array([0, 1, 2, 3, 4, 5])\n",
        "freq = np.array([3, 8, 12, 15, 9, 3])\n",
        "total_students = np.sum(freq)\n",
        "\n",
        "mean = np.sum(values * freq) / np.sum(freq)\n",
        "variance = np.sum(((values - mean) ** 2) * freq) / np.sum(freq)\n",
        "req_prob = np.sum(freq[values >= 3]) / total_students\n",
        "\n",
        "print(\"Mean:\", mean)\n",
        "print(\"Variance:\", variance)\n",
        "print(\"Probability of scoring at least 3 correct answers:\", req_prob)\n"
      ],
      "metadata": {
        "colab": {
          "base_uri": "https://localhost:8080/"
        },
        "id": "vLsFSVDe3xyu",
        "outputId": "33bb4ae7-ddbb-4242-8c18-5e7dbaa2740c"
      },
      "execution_count": null,
      "outputs": [
        {
          "output_type": "stream",
          "name": "stdout",
          "text": [
            "Mean: 2.56\n",
            "Variance: 1.6463999999999999\n",
            "Probability of scoring at least 3 correct answers: 0.54\n"
          ]
        }
      ]
    },
    {
      "cell_type": "code",
      "source": [
        "import numpy as np\n",
        "import random\n",
        "\n",
        "x=np.array([0,1,2,3])\n",
        "y=np.array([0.25,0.5,0.125,0.125])\n"
      ],
      "metadata": {
        "colab": {
          "base_uri": "https://localhost:8080/"
        },
        "id": "Zlj8u1pIBlBD",
        "outputId": "07ca836c-5034-4348-b61d-ec135fd06836"
      },
      "execution_count": null,
      "outputs": [
        {
          "output_type": "stream",
          "name": "stdout",
          "text": [
            "0.33083025430218627\n"
          ]
        }
      ]
    },
    {
      "cell_type": "code",
      "source": [
        "from math import comb\n",
        "\n",
        "total_bulbs = 14\n",
        "fused_bulbs = 4\n",
        "drawn_bulbs = 3\n",
        "\n",
        "prob_fused= fused_bulbs / total_bulbs\n",
        "prob_good = 1- prob_fused\n",
        "\n",
        "prob={}\n",
        "\n",
        "for i in range(drawn_bulbs + 1):\n",
        "    probabilities = comb(drawn_bulbs, i) * (prob_fused ** i) * ((1 - prob_fused) ** (drawn_bulbs - i))\n",
        "    prob= probabilities\n",
        "    print(f\"Probability of {i} is {probabilities}\")"
      ],
      "metadata": {
        "colab": {
          "base_uri": "https://localhost:8080/"
        },
        "id": "QbHzZoViAfPA",
        "outputId": "9579d9c4-3926-4954-d558-1ed3643260d3"
      },
      "execution_count": null,
      "outputs": [
        {
          "output_type": "stream",
          "name": "stdout",
          "text": [
            "Probability of 0 is 0.3644314868804665\n",
            "Probability of 1 is 0.43731778425655976\n",
            "Probability of 2 is 0.1749271137026239\n",
            "Probability of 3 is 0.02332361516034985\n"
          ]
        }
      ]
    },
    {
      "cell_type": "code",
      "source": [
        "prob_defective = 0.02\n",
        "\n",
        "geo= ((1-prob_defective)** (7-1))*prob_defective\n",
        "print(f\"probability that the first defect is caused by the seventh component tested {geo}\")\n",
        "\n",
        "mean= 1/prob_defective\n",
        "print(f\"Number of components expected to test until one is found to be defective {mean}\")\n"
      ],
      "metadata": {
        "colab": {
          "base_uri": "https://localhost:8080/"
        },
        "id": "9CQueQf0KfeP",
        "outputId": "12ad8f42-eb06-4112-e852-28d52efd780a"
      },
      "execution_count": null,
      "outputs": [
        {
          "output_type": "stream",
          "name": "stdout",
          "text": [
            "probability that the first defect is caused by the seventh component tested 0.01771684761728\n",
            "Number of components expected to test until one is found to be defective 50.0\n"
          ]
        }
      ]
    },
    {
      "cell_type": "code",
      "source": [
        "days=[2,3,4,3,2]\n",
        "sales=[10,15,20,25,30]\n",
        "a=0\n",
        "sum=0\n",
        "for i in range(len(days)):\n",
        "  a += days[i]*sales[i]\n",
        "  sum+=days[i]\n",
        "mean= a/sum\n",
        "print(mean)"
      ],
      "metadata": {
        "colab": {
          "base_uri": "https://localhost:8080/"
        },
        "id": "1G5Ft1txUHdd",
        "outputId": "2ac58138-15dd-419e-f508-070e1a764528"
      },
      "execution_count": null,
      "outputs": [
        {
          "output_type": "stream",
          "name": "stdout",
          "text": [
            "20.0\n"
          ]
        }
      ]
    },
    {
      "cell_type": "code",
      "source": [
        "import math\n",
        "days = [2,3,4,3,2]\n",
        "sales = [10,15,20,25,30]\n",
        "a=0\n",
        "for i in range(len(days)):\n",
        "  a += days[i]*sales[i]\n",
        "\n",
        "#part a\n",
        "mean = a/sum(days)\n",
        "print(\"MEAN : \",mean)\n",
        "\n",
        "#part b\n",
        "k=20\n",
        "prob_twenty = (2.718**(-mean)*(mean**k))/math.factorial(k)\n",
        "print(\"probability that exactly 20 croissants are sold: \",prob_twenty)\n",
        "\n",
        "#part c\n",
        "prob_fifteen = 0;\n",
        "for i in range(0,15):\n",
        "  x = (2.718**(-mean)*(mean**i))/math.factorial(i)\n",
        "  prob_fifteen += x\n",
        "\n",
        "print(\"probability that fewer than 15 croissants are sold: \",prob_fifteen)\n",
        "\n",
        "#part d\n",
        "sigma = mean**(1/2)\n",
        "print(\"standard deviation : \",sigma)"
      ],
      "metadata": {
        "colab": {
          "base_uri": "https://localhost:8080/"
        },
        "id": "Tl8F2DS4CV3g",
        "outputId": "322e8843-2714-414b-f809-24d4b824bb47"
      },
      "execution_count": null,
      "outputs": [
        {
          "output_type": "stream",
          "name": "stdout",
          "text": [
            "MEAN :  20.0\n",
            "probability that exactly 20 croissants are sold:  0.089019725030261\n",
            "probability that fewer than 15 croissants are sold:  0.10508196226201008\n",
            "standard deviation :  4.47213595499958\n"
          ]
        }
      ]
    },
    {
      "cell_type": "code",
      "source": [
        "#Question-1\n",
        "\n",
        "import numpy as np\n",
        "\n",
        "num = np.random.normal(12,19,8500)\n",
        "Z=(num-12)/19\n",
        "\n",
        "a=0\n",
        "b=0\n",
        "c=0\n",
        "\n",
        "for i in Z:\n",
        "    if i>=-0.325 and i<=0.325:\n",
        "      a+=1\n",
        "    if i>=-0.5 and i<=0.5:\n",
        "      b+=1\n",
        "    if i>= -0.275 and i<= 0.275:\n",
        "      c+=1\n",
        "\n",
        "print(\"The percentage of numbers between -0.325 and 0.325 is\", (a/8500)*100)\n",
        "print(\"The percentage of numbers between -0.325 and 0.325 is\",(b/8500)*100)\n",
        "print(\"The percentage of numbers between -0.325 and 0.325 is\", (c/8500)*100)"
      ],
      "metadata": {
        "colab": {
          "base_uri": "https://localhost:8080/"
        },
        "id": "pna9q5DEGmCS",
        "outputId": "990f2567-bf82-4315-f127-e95a0c3c5df1"
      },
      "execution_count": null,
      "outputs": [
        {
          "output_type": "stream",
          "name": "stdout",
          "text": [
            "The percentage of numbers between -0.325 and 0.325 is 25.258823529411767\n",
            "The percentage of numbers between -0.325 and 0.325 is 38.247058823529414\n",
            "The percentage of numbers between -0.325 and 0.325 is 21.55294117647059\n"
          ]
        }
      ]
    },
    {
      "cell_type": "code",
      "source": [
        "#Question-2\n",
        "\n",
        "import scipy as sc\n",
        "p1=0.4\n",
        "p2=0.6\n",
        "\n",
        "P1 = sc.stats.expon.cdf(1,scale=2)\n",
        "P2 = (1-0)/5\n",
        "\n",
        "deno= p1*P1 +p2*P2\n",
        "ActualP1 = (p1*P1)/deno\n",
        "\n",
        "print(\"The probability that the job was done by printer 1 is : \", ActualP1)\n",
        "\n"
      ],
      "metadata": {
        "colab": {
          "base_uri": "https://localhost:8080/"
        },
        "id": "g3WeW6rRLAx-",
        "outputId": "2008ef31-0c64-4c57-9e00-575c85bb4bec"
      },
      "execution_count": null,
      "outputs": [
        {
          "output_type": "stream",
          "name": "stdout",
          "text": [
            "The probability that the job was done by printer 1 is :  0.5673925542610391\n"
          ]
        }
      ]
    },
    {
      "cell_type": "code",
      "source": [
        "#Question-3\n",
        "\n",
        "import numpy as np\n",
        "\n",
        "X= np.random.normal(75,10,1000)\n",
        "a=0\n",
        "\n",
        "for i in X:\n",
        "  if i>=80:\n",
        "    a+=1\n",
        "\n",
        "print(\"The proportion of students who have secured more than 80% marks : \", (a/1000)*100)\n"
      ],
      "metadata": {
        "colab": {
          "base_uri": "https://localhost:8080/"
        },
        "id": "6Cgww7wCKcxS",
        "outputId": "69d2efbf-1f9e-44ee-ea9f-b3be916867ca"
      },
      "execution_count": null,
      "outputs": [
        {
          "output_type": "stream",
          "name": "stdout",
          "text": [
            "The proportion of students who have secured more than 80% marks :  33.4\n"
          ]
        }
      ]
    },
    {
      "cell_type": "code",
      "source": [
        "#QUESTION-1\n",
        "\n",
        "import scipy.stats as stats\n",
        "\n",
        "mean= 527\n",
        "deviation= 112\n",
        "\n",
        "#(a)What is the probability of an individual scoring above 500 on the GMAT?\n",
        "p_above500 = 1- stats.norm.cdf(500,527,112)\n",
        "print(\"Probability of scoring more than 500 : \",p_above500)\n",
        "\n",
        "#(b)How high must an individual score on the GMAT to score in the highest 5%?\n",
        "percentile= 95\n",
        "highest5= stats.norm.ppf(0.95,527,112)\n",
        "print(\"Ideal score on the GMAT to be in the highest 5% : \",highest5)\n",
        "\n",
        "#(c)What is the probability of an individual scoring between 527 to 554 on the GMAT?\n",
        "cdf_554 = stats.norm.cdf(554,527,112)\n",
        "cdf_527 = stats.norm.cdf(527,527,112)\n",
        "prob_bw_527and554 = cdf_554 - cdf_527\n",
        "print(\"Probability of an individual scoring between527 and 554 : \",prob_bw_527and554)\n"
      ],
      "metadata": {
        "colab": {
          "base_uri": "https://localhost:8080/"
        },
        "id": "Xa8mIKeSQwWH",
        "outputId": "c310c866-92dd-4680-b4e3-22c5820dbee0"
      },
      "execution_count": null,
      "outputs": [
        {
          "output_type": "stream",
          "name": "stdout",
          "text": [
            "Probability of scoring more than 500 :  0.5952501217429682\n",
            "Ideal score on the GMAT to be in the highest 5% :  711.2236062185649\n",
            "Probability of an individual scoring between527 and 554 :  0.0952501217429681\n"
          ]
        }
      ]
    },
    {
      "cell_type": "markdown",
      "source": [],
      "metadata": {
        "id": "8YmnJfFXdnC8"
      }
    },
    {
      "cell_type": "code",
      "source": [
        "#QUESTION-2\n",
        "\n",
        "from scipy.stats import expon\n",
        "\n",
        "rate = 2\n",
        "\n",
        "#What is the probability that a shower will last more than three minutes?\n",
        "pmorethan3 = 1 - expon.cdf(3, scale = 1/rate)\n",
        "\n",
        "#If a shower has already lasted for 2 minutes, what is the probability that it will last for at least one more minute?\n",
        "pAtleast1 = 1 - expon.cdf(1, scale = 1/rate)\n",
        "\n",
        "print(\" prob that it will last more than more than 3 min: \", pmorethan3)\n",
        "print(\"probability that it will last for at least one more minute: \", pAtleast1)"
      ],
      "metadata": {
        "colab": {
          "base_uri": "https://localhost:8080/"
        },
        "id": "F99CToV_cU0W",
        "outputId": "9e9b5a30-2116-402a-d8e3-8aef3754cdc7"
      },
      "execution_count": null,
      "outputs": [
        {
          "output_type": "stream",
          "name": "stdout",
          "text": [
            " prob that it will last more than more than 3 min:  0.0024787521766663767\n",
            "probability that it will last for at least one more minute:  0.1353352832366127\n"
          ]
        }
      ]
    }
  ]
}